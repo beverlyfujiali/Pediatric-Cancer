{
 "cells": [
  {
   "cell_type": "markdown",
   "metadata": {},
   "source": [
    "### Converting SV VCF files produced by Manta and annotated by VEP into simple CSV files for input to SigProfiler"
   ]
  },
  {
   "cell_type": "code",
   "execution_count": 2,
   "metadata": {},
   "outputs": [],
   "source": [
    "import pandas as pd \n",
    "import numpy as np \n",
    "import sys \n",
    "import re \n",
    "import os "
   ]
  },
  {
   "cell_type": "code",
   "execution_count": 21,
   "metadata": {},
   "outputs": [],
   "source": [
    "def process_vcf_line(line):\n",
    "    parts = line.strip().split('\\t')\n",
    "    \n",
    "    # Extracting CHROM\n",
    "    chrom = re.sub(r'chr', '', parts[0])\n",
    "\n",
    "    # Extracting START\n",
    "    start = parts[1]\n",
    "\n",
    "    # Extracting and converting SVCLASS\n",
    "    svclass = parts[2].split(':')[0]\n",
    "    svclass_conversion = {\n",
    "        'MantaDEL': 'deletion',\n",
    "        'MantaINS': 'insertion',\n",
    "        'MantaDUP': 'tandem-duplication',\n",
    "        'MantaINV': 'inversion',\n",
    "        'MantaBND': 'translocation'\n",
    "    }\n",
    "    svclass = svclass_conversion.get(svclass, 'Unknown')\n",
    "\n",
    "    # Extracting SVLEN\n",
    "    svlen = None\n",
    "    if svclass in ['deletion', 'insertion', 'tandem-duplication']:\n",
    "        info = parts[7]\n",
    "        svlen_match = re.search(r'SVLEN=([-\\d]+)', info)\n",
    "        if svlen_match:\n",
    "            svlen = svlen_match.group(1)\n",
    "    \n",
    "    svend = None\n",
    "    if svclass in ['inversion']:\n",
    "        info = parts[7]\n",
    "        svend_match = re.search(r'END=([-\\d]+)', info)\n",
    "        if svend_match:\n",
    "            svend = svend_match.group(1)\n",
    "\n",
    "    # Extracting INV-TRN_ID and MATE-INV-TRN_ID\n",
    "    inv_trn_id = mate_inv_trn_id = None\n",
    "    if svclass == 'translocation':\n",
    "        info = parts[7]\n",
    "        inv_trn_id = parts[2]\n",
    "        mate_match = re.search(r'MATEID=([^;]+)', info)\n",
    "        if mate_match:\n",
    "            mate_inv_trn_id = mate_match.group(1)\n",
    "\n",
    "    return [chrom, start, svclass, svlen, svend, inv_trn_id, mate_inv_trn_id]"
   ]
  },
  {
   "cell_type": "code",
   "execution_count": 24,
   "metadata": {},
   "outputs": [],
   "source": [
    "def process_vcf_file(vcf_filename):\n",
    "    data = []\n",
    "    with open(vcf_filename, 'r') as file:\n",
    "        for line in file:\n",
    "            if line.startswith('##'):\n",
    "                continue\n",
    "            if line.startswith('#'):\n",
    "                continue\n",
    "            data.append(process_vcf_line(line))\n",
    "\n",
    "    df = pd.DataFrame(data, columns=['CHROM', 'START', 'SVCLASS', 'SVLEN', 'SVEND', 'INV-TRN_ID', 'MATE-INV-TRN_ID'])\n",
    "    \n",
    "    return df\n",
    "\n",
    "#     # # Post-processing for inversion-translocation\n",
    "#     # for index, row in df.iterrows():\n",
    "#     #     if row['SVCLASS'] == 'inversion-translocation':\n",
    "#     #         mate_row = df[df['INV-TRN_ID'] == row['MATE-INV-TRN_ID']]\n",
    "#     #         if not mate_row.empty:\n",
    "#     #             mate_row = mate_row.iloc[0]\n",
    "#     #             if row['CHROM'] == mate_row['CHROM']:\n",
    "#     #                 df.at[index, 'SVCLASS'] = 'inversion'\n",
    "#     #             else:\n",
    "#     #                 df.at[index, 'SVCLASS'] = 'translocation'\n",
    "\n",
    "#     # return df"
   ]
  },
  {
   "cell_type": "code",
   "execution_count": 25,
   "metadata": {},
   "outputs": [],
   "source": [
    "df = process_vcf_file('/Users/beverlyfu/Desktop/Thesis/Pediatric-Cancer/vcf_files/kidsfirst-nbl-sample.vcf')"
   ]
  },
  {
   "cell_type": "code",
   "execution_count": 26,
   "metadata": {},
   "outputs": [],
   "source": [
    "def transform_and_export_df(df, vcf_filename):\n",
    "    df['chrom1'] = df['CHROM']\n",
    "    df['start1'] = df['START'].astype(int)\n",
    "    df['end1'] = df['start1'] + 1\n",
    "    df['chrom2'] = None\n",
    "    df['start2'] = None\n",
    "    df['end2'] = None\n",
    "\n",
    "    for index, row in df.iterrows():\n",
    "        if row['SVCLASS'] in ['tandem-duplication', 'deletion', 'insertion']:\n",
    "            svlen = abs(int(row['SVLEN']) if row['SVLEN']) else 0\n",
    "            df.at[index, 'chrom2'] = row['chrom1']\n",
    "            df.at[index, 'start2'] = row['start1'] + svlen\n",
    "            df.at[index, 'end2'] = df.at[index, 'start2'] + 1\n",
    "\n",
    "        elif row['SVCLASS'] in ['inversion']:\n",
    "            svend = int(row['SVEND']) if row['SVEND'] else 0\n",
    "            df.at[index, 'chrom2'] = row['chrom1']\n",
    "            df.at[index, 'start2'] = svend\n",
    "            df.at[index, 'end2'] = svend + 1\n",
    "\n",
    "        elif row['SVCLASS'] in ['translocation']:\n",
    "            mate_row = df[df['INV-TRN_ID'] == row['MATE-INV-TRN_ID']]\n",
    "            if not mate_row.empty:\n",
    "                mate_row = mate_row.iloc[0]\n",
    "                df.at[index, 'chrom2'] = mate_row['chrom1']\n",
    "                df.at[index, 'start2'] = int(mate_row['START'])\n",
    "                df.at[index, 'end2'] = int(mate_row['START']) + 1\n",
    "                \n",
    "    df.rename(columns={'SVCLASS': 'svclass'}, inplace=True)\n",
    "    final_df = df[['chrom1', 'start1', 'end1', 'chrom2', 'start2', 'end2', 'svclass']]\n",
    "    csv_filename = vcf_filename.replace('.vcf', '.csv')\n",
    "    final_df.to_csv(csv_filename, index=False)"
   ]
  },
  {
   "cell_type": "code",
   "execution_count": 27,
   "metadata": {},
   "outputs": [],
   "source": [
    "# Example usage\n",
    "# Assuming df is your existing DataFrame from the original script\n",
    "transform_and_export_df(df, '/Users/beverlyfu/Desktop/Thesis/Pediatric-Cancer/vcf_files/kidsfirst-nbl-sample.vcf')"
   ]
  }
 ],
 "metadata": {
  "kernelspec": {
   "display_name": "python37_musical",
   "language": "python",
   "name": "python37_musical"
  },
  "language_info": {
   "codemirror_mode": {
    "name": "ipython",
    "version": 3
   },
   "file_extension": ".py",
   "mimetype": "text/x-python",
   "name": "python",
   "nbconvert_exporter": "python",
   "pygments_lexer": "ipython3",
   "version": "3.12.0"
  }
 },
 "nbformat": 4,
 "nbformat_minor": 2
}
